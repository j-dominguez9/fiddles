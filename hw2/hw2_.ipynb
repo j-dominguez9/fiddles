{
 "cells": [
  {
   "cell_type": "code",
   "execution_count": 2,
   "metadata": {},
   "outputs": [],
   "source": [
    "# Homework 2\n",
    "import numpy as np\n",
    "from sklearn.metrics import accuracy_score # other metrics too pls!\n",
    "from sklearn.ensemble import RandomForestClassifier # more!\n",
    "from sklearn.model_selection import KFold\n",
    "from sklearn.linear_model import LogisticRegression\n",
    "from sklearn.datasets import make_classification\n",
    "import itertools\n",
    "import matplotlib.pyplot as plt"
   ]
  },
  {
   "cell_type": "code",
   "execution_count": 15,
   "metadata": {},
   "outputs": [],
   "source": [
    "# Homework 2\n",
    "# adapt this code below to run your analysis\n",
    "# 1. Write a function to take a list or dictionary of clfs and hypers(i.e. use logistic regression), each with 3 different sets of hyper parameters for each\n",
    "# 2. Expand to include larger number of classifiers and hyperparameter settings\n",
    "# 3. Find some simple data\n",
    "# 4. generate matplotlib plots that will assist in identifying the optimal clf and parampters settings\n",
    "# 5. Please set up your code to be run and save the results to the directory that its executed from\n",
    "# 6. Investigate grid search function\n",
    "\n",
    "M = np.array([[1,2],[3,4],[4,5],[4,5],[4,5],[4,5],[4,5],[4,5]])\n",
    "L = np.ones(M.shape[0])\n",
    "n_folds = 5\n",
    "\n",
    "data = (M, L, n_folds)\n",
    "\n",
    "def run (a_clf, data, clf_hyper={}):\n",
    "  M, L, n_folds = data # unpack data container\n",
    "  kf = KFold(n_splits=n_folds) # Establish the cross validation\n",
    "  ret = {} # classic explication of results\n",
    "\n",
    "  for ids, (train_index, test_index) in enumerate(kf.split(M, L)):\n",
    "    clf = a_clf(**clf_hyper) # unpack parameters into clf if they exist\n",
    "    clf.fit(M[train_index], L[train_index])\n",
    "    pred = clf.predict(M[test_index])\n",
    "    ret[ids]= {'clf': clf,\n",
    "               'train_index': train_index,\n",
    "               'test_index': test_index,\n",
    "               'accuracy': accuracy_score(L[test_index], pred)}\n",
    "  return ret\n",
    "\n",
    "results = run (RandomForestClassifier, data, clf_hyper={})"
   ]
  },
  {
   "cell_type": "code",
   "execution_count": 16,
   "metadata": {},
   "outputs": [
    {
     "data": {
      "text/plain": [
       "{0: {'clf': RandomForestClassifier(),\n",
       "  'train_index': array([2, 3, 4, 5, 6, 7]),\n",
       "  'test_index': array([0, 1]),\n",
       "  'accuracy': 1.0},\n",
       " 1: {'clf': RandomForestClassifier(),\n",
       "  'train_index': array([0, 1, 4, 5, 6, 7]),\n",
       "  'test_index': array([2, 3]),\n",
       "  'accuracy': 1.0},\n",
       " 2: {'clf': RandomForestClassifier(),\n",
       "  'train_index': array([0, 1, 2, 3, 6, 7]),\n",
       "  'test_index': array([4, 5]),\n",
       "  'accuracy': 1.0},\n",
       " 3: {'clf': RandomForestClassifier(),\n",
       "  'train_index': array([0, 1, 2, 3, 4, 5, 7]),\n",
       "  'test_index': array([6]),\n",
       "  'accuracy': 1.0},\n",
       " 4: {'clf': RandomForestClassifier(),\n",
       "  'train_index': array([0, 1, 2, 3, 4, 5, 6]),\n",
       "  'test_index': array([7]),\n",
       "  'accuracy': 1.0}}"
      ]
     },
     "execution_count": 16,
     "metadata": {},
     "output_type": "execute_result"
    }
   ],
   "source": [
    "results"
   ]
  },
  {
   "cell_type": "code",
   "execution_count": 3,
   "metadata": {},
   "outputs": [],
   "source": [
    "\n",
    "M = np.array([[1,2],[3,4],[4,5],[4,5],[4,5],[4,5],[4,5],[4,5]])\n",
    "L = np.ones(M.shape[0])\n",
    "n_folds = 5\n",
    "\n",
    "data = (M, L, n_folds)"
   ]
  },
  {
   "cell_type": "code",
   "execution_count": 12,
   "metadata": {},
   "outputs": [],
   "source": [
    "M, L, n_folds = data # unpack data container\n",
    "kf = KFold(n_splits=n_folds) # Establish the cross validation"
   ]
  },
  {
   "cell_type": "code",
   "execution_count": 14,
   "metadata": {},
   "outputs": [
    {
     "data": {
      "text/plain": [
       "array([1., 1., 1., 1., 1., 1., 1., 1.])"
      ]
     },
     "execution_count": 14,
     "metadata": {},
     "output_type": "execute_result"
    }
   ],
   "source": [
    "L"
   ]
  },
  {
   "cell_type": "code",
   "execution_count": 4,
   "metadata": {},
   "outputs": [
    {
     "name": "stdout",
     "output_type": "stream",
     "text": [
      "(array([[1, 2],\n",
      "       [3, 4],\n",
      "       [4, 5],\n",
      "       [4, 5],\n",
      "       [4, 5],\n",
      "       [4, 5],\n",
      "       [4, 5],\n",
      "       [4, 5]]), array([1., 1., 1., 1., 1., 1., 1., 1.]), 5)\n"
     ]
    }
   ],
   "source": [
    "print(data)"
   ]
  },
  {
   "attachments": {},
   "cell_type": "markdown",
   "metadata": {},
   "source": [
    "1. Write a function to take a list or dictionary of clfs and hypers(i.e. use logistic regression), each with 3 different sets of hyper parameters for each"
   ]
  },
  {
   "cell_type": "code",
   "execution_count": 28,
   "metadata": {},
   "outputs": [],
   "source": [
    "X,y = make_classification(n_samples = 1000, n_features= 15, n_repeated=0)"
   ]
  },
  {
   "cell_type": "code",
   "execution_count": 153,
   "metadata": {},
   "outputs": [],
   "source": [
    "import warnings\n",
    "warnings.filterwarnings('ignore')"
   ]
  },
  {
   "cell_type": "code",
   "execution_count": 148,
   "metadata": {},
   "outputs": [],
   "source": [
    "# models = [RandomForestClassifier(), LogisticRegression()]\n",
    "hypersLR = {\n",
    "    'penalty' : ['l2', None],\n",
    "    'C' : [1, 2, 5],\n",
    "    'max_iter' : [100, 200, 500]\n",
    "}"
   ]
  },
  {
   "cell_type": "code",
   "execution_count": 157,
   "metadata": {},
   "outputs": [
    {
     "data": {
      "text/plain": [
       "{'best_params': {'C': 1,\n",
       "  'class_weight': None,\n",
       "  'dual': False,\n",
       "  'fit_intercept': True,\n",
       "  'intercept_scaling': 1,\n",
       "  'l1_ratio': None,\n",
       "  'max_iter': 100,\n",
       "  'multi_class': 'auto',\n",
       "  'n_jobs': None,\n",
       "  'penalty': 'l2',\n",
       "  'random_state': None,\n",
       "  'solver': 'lbfgs',\n",
       "  'tol': 0.0001,\n",
       "  'verbose': 0,\n",
       "  'warm_start': False},\n",
       " 'accuracy_score': 0.96}"
      ]
     },
     "execution_count": 157,
     "metadata": {},
     "output_type": "execute_result"
    }
   ],
   "source": [
    "def LR_GS(data_X, data_y, clf_hyper={}):\n",
    "    #getting keys and values from param dict\n",
    "    keys,values = zip(*clf_hyper.items())\n",
    "    # creating dicts of all possible combinations of params\n",
    "    permutations_dicts = [dict(zip(keys,v)) for v in itertools.product(*values)]\n",
    "    # fitting a new model for every combination of dict\n",
    "    best = 0\n",
    "    for i in range(len(permutations_dicts)):\n",
    "        clf = LogisticRegression(**permutations_dicts[i])\n",
    "        clf.fit(data_X,data_y)\n",
    "        # we could change to test data here if we wanted, but for the sake of this function, this works\n",
    "        score = clf.score(data_X,data_y)\n",
    "        if score > best:\n",
    "            best = score\n",
    "            best_params = clf.get_params()\n",
    "    # print(f'Best Params: {best_params}')\n",
    "    # print(f'Accuracy: {best}')\n",
    "    # return best parameters\n",
    "    ret = {}\n",
    "    ret['best_params'] = best_params\n",
    "    ret['accuracy_score'] = best\n",
    "    return ret\n",
    "\n",
    "LR_GS(X, y, hypersLR)"
   ]
  },
  {
   "attachments": {},
   "cell_type": "markdown",
   "metadata": {},
   "source": [
    "2. Expand to include larger number of classifiers and hyperparameter settings"
   ]
  },
  {
   "cell_type": "code",
   "execution_count": 158,
   "metadata": {},
   "outputs": [],
   "source": [
    "hypersLR_RF = {'LR':{\n",
    "    'penalty' : ['l2', None],\n",
    "    'C' : [1, 2, 5],\n",
    "    'max_iter' : [100, 200, 500]\n",
    "    },\n",
    "    'RF':{'n_estimators': [100,150,250],\n",
    "    'criterion':['gini', 'entropy', 'log_loss'],\n",
    "    'bootstrap': [True, False]}\n",
    "}"
   ]
  },
  {
   "cell_type": "code",
   "execution_count": 162,
   "metadata": {},
   "outputs": [],
   "source": [
    "clfs = [LogisticRegression(), RandomForestClassifier()]"
   ]
  },
  {
   "cell_type": "code",
   "execution_count": 175,
   "metadata": {},
   "outputs": [
    {
     "data": {
      "text/plain": [
       "{'Type': 'RandomForest',\n",
       " 'accuracy_score': 1.0,\n",
       " 'best_params': {'bootstrap': True,\n",
       "  'ccp_alpha': 0.0,\n",
       "  'class_weight': None,\n",
       "  'criterion': 'gini',\n",
       "  'max_depth': None,\n",
       "  'max_features': 'sqrt',\n",
       "  'max_leaf_nodes': None,\n",
       "  'max_samples': None,\n",
       "  'min_impurity_decrease': 0.0,\n",
       "  'min_samples_leaf': 1,\n",
       "  'min_samples_split': 2,\n",
       "  'min_weight_fraction_leaf': 0.0,\n",
       "  'n_estimators': 100,\n",
       "  'n_jobs': None,\n",
       "  'oob_score': False,\n",
       "  'random_state': None,\n",
       "  'verbose': 0,\n",
       "  'warm_start': False}}"
      ]
     },
     "execution_count": 175,
     "metadata": {},
     "output_type": "execute_result"
    }
   ],
   "source": [
    "def LRRF_GS(data_X, data_y, clf_hyper={}, clf_list=[]):\n",
    "    best = 0\n",
    "    best_params = {}\n",
    "    for i in clf_list:\n",
    "        if type(i) == type(LogisticRegression()):\n",
    "            LR_params = clf_hyper['LR']\n",
    "            #getting keys and values from param dict\n",
    "            keys,values = zip(*LR_params.items())\n",
    "            # creating dicts of all possible combinations of params\n",
    "            permutations_dicts = [dict(zip(keys,v)) for v in itertools.product(*values)]\n",
    "            for i in range(len(permutations_dicts)):\n",
    "                clf = LogisticRegression(**permutations_dicts[i])\n",
    "                clf.fit(data_X,data_y)\n",
    "                # we could change to test data here if we wanted, but for the sake of this function, this works\n",
    "                score = clf.score(data_X,data_y)\n",
    "                if score > best:\n",
    "                    clf_type = 'LogisticRegression'\n",
    "                    best = score\n",
    "                    best_params = clf.get_params()\n",
    "        else:\n",
    "            RF_params = clf_hyper['RF']\n",
    "            #getting keys and values from param dict\n",
    "            keys,values = zip(*RF_params.items())\n",
    "            # creating dicts of all possible combinations of params\n",
    "            permutations_dicts = [dict(zip(keys,v)) for v in itertools.product(*values)]\n",
    "            for i in range(len(permutations_dicts)):\n",
    "                clf = RandomForestClassifier(**permutations_dicts[i])\n",
    "                clf.fit(data_X,data_y)\n",
    "                # we could change to test data here if we wanted, but for the sake of this function, this works\n",
    "                score = clf.score(data_X,data_y)\n",
    "                if score > best:\n",
    "                    clf_type = 'RandomForest'\n",
    "                    best = score\n",
    "                    best_params = clf.get_params()\n",
    "    # print(f'Best Params: {best_params}')\n",
    "    # print(f'Accuracy: {best}')\n",
    "    # return best parameters\n",
    "    ret = {}\n",
    "    ret['Type'] = clf_type\n",
    "    ret['accuracy_score'] = best\n",
    "    ret['best_params'] = best_params\n",
    "\n",
    "    return ret\n",
    "\n",
    "LRRF_GS(X, y, hypersLR_RF, clfs)"
   ]
  },
  {
   "attachments": {},
   "cell_type": "markdown",
   "metadata": {},
   "source": [
    "3. Find some simple data\n",
    "4. generate matplotlib plots that will assist in identifying the optimal clf and parampters settings"
   ]
  },
  {
   "cell_type": "code",
   "execution_count": 239,
   "metadata": {},
   "outputs": [],
   "source": [
    "def LRRF_GSopt(data_X, data_y, clf_hyper={}, clf_list=[]):\n",
    "    best = 0\n",
    "    best_params = {}\n",
    "    counter_LR = 1\n",
    "    counter_RF = 1\n",
    "    viz_LR = {}\n",
    "    viz_RF = {}\n",
    "    for i in clf_list:\n",
    "        if type(i) == type(LogisticRegression()):\n",
    "            LR_params = clf_hyper['LR']\n",
    "            #getting keys and values from param dict\n",
    "            keys,values = zip(*LR_params.items())\n",
    "            # creating dicts of all possible combinations of params\n",
    "            permutations_dicts = [dict(zip(keys,v)) for v in itertools.product(*values)]\n",
    "            for i in range(len(permutations_dicts)):\n",
    "                clf = LogisticRegression(**permutations_dicts[i])\n",
    "                clf.fit(data_X,data_y)\n",
    "                # we could change to test data here if we wanted, but for the sake of this function, this works\n",
    "                score = clf.score(data_X,data_y)\n",
    "                label = str(counter_LR) + ' LR'\n",
    "                viz_LR[label] = [score, clf.get_params()]\n",
    "                counter_LR+=1\n",
    "                if score > best:\n",
    "                    clf_type = 'LogisticRegression'\n",
    "                    best = score\n",
    "                    best_params = clf.get_params()\n",
    "        else:\n",
    "            RF_params = clf_hyper['RF']\n",
    "            #getting keys and values from param dict\n",
    "            keys,values = zip(*RF_params.items())\n",
    "            # creating dicts of all possible combinations of params\n",
    "            permutations_dicts = [dict(zip(keys,v)) for v in itertools.product(*values)]\n",
    "            for i in range(len(permutations_dicts)):\n",
    "                clf = RandomForestClassifier(**permutations_dicts[i])\n",
    "                clf.fit(data_X,data_y)\n",
    "                # we could change to test data here if we wanted, but for the sake of this function, this works\n",
    "                score = clf.score(data_X,data_y)\n",
    "                label = str(counter_RF) + ' RF'\n",
    "                viz_RF[label] = [score, clf.get_params()]\n",
    "                counter_RF+=1\n",
    "                if score > best:\n",
    "                    clf_type = 'RandomForest'\n",
    "                    best = score\n",
    "                    best_params = clf.get_params()\n",
    "    ret = {}\n",
    "    ret['Type'] = clf_type\n",
    "    ret['accuracy_score'] = best\n",
    "    ret['best_params'] = best_params\n",
    "\n",
    "    return ret, viz_LR, viz_RF \n",
    "\n",
    "ret, viz_LR, viz_RF = LRRF_GSopt(X, y, hypersLR_RF, clfs)"
   ]
  },
  {
   "cell_type": "code",
   "execution_count": 256,
   "metadata": {},
   "outputs": [
    {
     "data": {
      "text/plain": [
       "[<matplotlib.lines.Line2D at 0x7f2ac9300750>]"
      ]
     },
     "execution_count": 256,
     "metadata": {},
     "output_type": "execute_result"
    },
    {
     "data": {
      "image/png": "[encoded data removed]",
      "text/plain": [
       "<Figure size 2000x300 with 1 Axes>"
      ]
     },
     "metadata": {},
     "output_type": "display_data"
    }
   ],
   "source": [
    "# Random Forest metrics are all 100 bc predictions were made from training data, obviously would not be done this way in real project, just proof-of-concept\n",
    "val_list = []\n",
    "for i in range(1, len(viz_RF)+1):\n",
    "    label = str(i) + ' RF'\n",
    "    val_acc = viz_RF[label][0]\n",
    "    val_list.append(val_acc)\n",
    "plt.rcParams[\"figure.figsize\"] = (20,3)\n",
    "plt.title('Random Forest Accuracy Scores')   \n",
    "plt.plot(viz_RF.keys(), val_list)\n"
   ]
  },
  {
   "cell_type": "code",
   "execution_count": 258,
   "metadata": {},
   "outputs": [
    {
     "data": {
      "text/plain": [
       "[<matplotlib.lines.Line2D at 0x7f2ac927b290>]"
      ]
     },
     "execution_count": 258,
     "metadata": {},
     "output_type": "execute_result"
    },
    {
     "data": {
      "image/png": "[encoded data removed]",
      "text/plain": [
       "<Figure size 2000x300 with 1 Axes>"
      ]
     },
     "metadata": {},
     "output_type": "display_data"
    }
   ],
   "source": [
    "val_list = []\n",
    "for i in range(1, len(viz_LR)+1):\n",
    "    label = str(i) + ' LR'\n",
    "    val_acc = viz_LR[label][0]\n",
    "    val_list.append(val_acc)\n",
    "# plt.rcParams[\"figure.figsize\"] = (20,3)\n",
    "plt.title('Logistic Regression Accuracy Scores')   \n",
    "plt.plot(viz_LR.keys(), val_list)"
   ]
  },
  {
   "cell_type": "code",
   "execution_count": 300,
   "metadata": {},
   "outputs": [],
   "source": [
    "# function to plot accuracy by parameters and model\n",
    "\n",
    "def viz_param(model, parameter):\n",
    "    if model == 'LR':\n",
    "        if parameter in viz_LR['1 LR'][1].keys():\n",
    "            val_list = []\n",
    "            param_list = []\n",
    "            for i in range(1, len(viz_LR)+1):\n",
    "                label = str(i) + ' LR'\n",
    "                val_acc = viz_LR[label][0]\n",
    "                val_list.append(val_acc)\n",
    "                param_val = viz_LR[label][1][parameter]\n",
    "                param_list.append(param_val)\n",
    "            # plt.rcParams[\"figure.figsize\"] = (20,3)\n",
    "            plt.title(f'Logistic Regression Accuracy by Parameter: \\'{parameter}\\'')\n",
    "            plt.scatter(param_list, val_list, label = parameter, color = 'red')\n",
    "            plt.show()\n",
    "    else:\n",
    "        if parameter in viz_RF['1 RF'][1].keys():\n",
    "            val_list = []\n",
    "            param_list = []\n",
    "            for i in range(1, len(viz_RF)+1):\n",
    "                label = str(i) + ' RF'\n",
    "                val_acc = viz_RF[label][0]\n",
    "                val_list.append(val_acc)\n",
    "                param_val = viz_RF[label][1][parameter]\n",
    "                param_list.append(param_val)\n",
    "            # plt.rcParams[\"figure.figsize\"] = (20,3)\n",
    "            plt.title(f'Random Forest Accuracy by Parameter: \\'{parameter}\\'')\n",
    "            plt.scatter(param_list, val_list, label = parameter, color = 'blue')\n",
    "            plt.show()\n",
    "        "
   ]
  },
  {
   "cell_type": "code",
   "execution_count": 290,
   "metadata": {},
   "outputs": [
    {
     "data": {
      "text/plain": [
       "dict_keys(['C', 'class_weight', 'dual', 'fit_intercept', 'intercept_scaling', 'l1_ratio', 'max_iter', 'multi_class', 'n_jobs', 'penalty', 'random_state', 'solver', 'tol', 'verbose', 'warm_start'])"
      ]
     },
     "execution_count": 290,
     "metadata": {},
     "output_type": "execute_result"
    }
   ],
   "source": [
    "viz_LR['1 LR'][1].keys()"
   ]
  },
  {
   "cell_type": "code",
   "execution_count": 298,
   "metadata": {},
   "outputs": [
    {
     "data": {
      "text/plain": [
       "dict_keys(['bootstrap', 'ccp_alpha', 'class_weight', 'criterion', 'max_depth', 'max_features', 'max_leaf_nodes', 'max_samples', 'min_impurity_decrease', 'min_samples_leaf', 'min_samples_split', 'min_weight_fraction_leaf', 'n_estimators', 'n_jobs', 'oob_score', 'random_state', 'verbose', 'warm_start'])"
      ]
     },
     "execution_count": 298,
     "metadata": {},
     "output_type": "execute_result"
    }
   ],
   "source": [
    "viz_RF['1 RF'][1].keys()"
   ]
  },
  {
   "cell_type": "code",
   "execution_count": 302,
   "metadata": {},
   "outputs": [
    {
     "data": {
      "image/png": "[encoded data removed]",
      "text/plain": [
       "<Figure size 2000x300 with 1 Axes>"
      ]
     },
     "metadata": {},
     "output_type": "display_data"
    }
   ],
   "source": [
    "viz_param('LR', 'C')"
   ]
  },
  {
   "cell_type": "code",
   "execution_count": 301,
   "metadata": {},
   "outputs": [
    {
     "data": {
      "image/png": "[encoded data removed]",
      "text/plain": [
       "<Figure size 2000x300 with 1 Axes>"
      ]
     },
     "metadata": {},
     "output_type": "display_data"
    }
   ],
   "source": [
    "viz_param('RF', 'n_estimators')"
   ]
  }
 ],
 "metadata": {
  "kernelspec": {
   "display_name": "workspace-xS3fZVNL-py3.11",
   "language": "python",
   "name": "python3"
  },
  "language_info": {
   "codemirror_mode": {
    "name": "ipython",
    "version": 3
   },
   "file_extension": ".py",
   "mimetype": "text/x-python",
   "name": "python",
   "nbconvert_exporter": "python",
   "pygments_lexer": "ipython3",
   "version": "3.11.1"
  },
  "orig_nbformat": 4,
  "vscode": {
   "interpreter": {
    "hash": "9f76a819b890e4fd87b9fa75594f7467e7e8722641774397a1aa38e02d1b3855"
   }
  }
 },
 "nbformat": 4,
 "nbformat_minor": 2
}
